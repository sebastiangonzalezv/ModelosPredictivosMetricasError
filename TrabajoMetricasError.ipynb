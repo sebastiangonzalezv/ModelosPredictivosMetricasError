{
 "cells": [
  {
   "cell_type": "markdown",
   "metadata": {},
   "source": [
    "![personal bamner](SebastianGonzalezBanner.png)"
   ]
  },
  {
   "cell_type": "markdown",
   "metadata": {},
   "source": [
    " #  <font color=#DC143C> Medidas de desempeño para regresión. </font>"
   ]
  },
  {
   "cell_type": "code",
   "execution_count": 3,
   "metadata": {},
   "outputs": [],
   "source": [
    "import numpy as np"
   ]
  },
  {
   "cell_type": "markdown",
   "metadata": {},
   "source": [
    "<img src=\"https://i.pinimg.com/originals/5d/fe/7f/5dfe7fadb7a59c4c54783dd71faa32fd.jpg\" width=\"600\">\n"
   ]
  },
  {
   "cell_type": "markdown",
   "metadata": {},
   "source": [
    "existen 2 tipos de modelos los de clasificación y los de regresión. las métricas mostradas a continuación solo son validas para modelos regresivos, adicionalmente las funciones estarán descritas en su mínima expresión, por ende no se recomienda usar fuera de este contexto ya que no se las revisión de las variables de entrada para levantar los raise error por mal usos de este pudiendo fácilmente romper un ambiente productivo estas funciones si no se usan correctamente."
   ]
  },
  {
   "cell_type": "markdown",
   "metadata": {},
   "source": [
    "# MAPE Mean absolute percentage error\n",
    "El Error Porcentual Absoluto Medio (MAPE o Mean Absolute Percentage Error) es un indicador del desempeño de modelos regresivos que mide el tamaño del error (absoluto) en términos porcentuales. <br>\n",
    "El hecho que se estime una magnitud del error porcentual lo hace un indicador frecuentemente utilizado por los encargados de elaborar pronósticos debido a su fácil interpretación. Incluso es útil cuando no se conoce el volumen de demanda del producto dado que es una medida relativa.<br>\n",
    "$$Mape\\left(Y, \\hat{Y}\\right)=\\frac{\\sum_{t=0}^{T}{\\lvert \\frac{Y_t-\\hat{Y}_t}{Y_t}} \\rvert}{T}$$ <br>\\\n",
    "el mayor problema de esta métrica es la que se puede encontrar división por 0 cuando el valor  real es 0 en un periodo, para ello se mostrar a continuación un código básico donde para esta métrica  excluye la pareja de puntos donde exista división por 0."
   ]
  },
  {
   "cell_type": "code",
   "execution_count": null,
   "metadata": {},
   "outputs": [],
   "source": [
    "def mean_absolute_percentage_error(y_true, y_pred):\n",
    "    \"\"\" mean absolute  percentage value (MAPE)\n",
    "\n",
    "    Args:\n",
    "        y_true: array-like of shape (n_samples,) or (n_samples, n_outputs) Ground truth (correct) target values.\n",
    "        y_pred: array-like of shape (n_samples,) or (n_samples, n_outputs) Estimated target values.\n",
    "\n",
    "    Returns:  \n",
    "        MAPE (float):  A positive floating point value mean absolute  percentage value (the best value is 0.0).\n",
    "\n",
    "    Examples:\n",
    "        >>> y_true = [3, 2, 7, 3]\n",
    "        >>> y_pred = [4, 1, 7, 1]\n",
    "        >>> mean_absolute_percentage_error(y_true, y_pred)\n",
    "        0.375\n",
    "\n",
    "        >>> y_true = [0, 2, 7, 3]\n",
    "        >>> y_pred = [4, 1, 7, 1]\n",
    "        >>> mean_absolute_percentage_error(y_true, y_pred)\n",
    "        0.38888888888888884\n",
    "    \"\"\"\n",
    "    y_true = np.array(y_true)\n",
    "    y_pred = np.array(y_pred)\n",
    "    mape = np.abs(np.divide((y_true - y_pred), y_true))\n",
    "    return np.mean(mape[np.isfinite(mape)])"
   ]
  },
  {
   "cell_type": "markdown",
   "metadata": {},
   "source": [
    "# max error\n",
    "calcula el error residual máximo, una regresion entre el valor predicho y el valor verdadero.<br>\n",
    "$$max\\,error\\left(Y, \\hat{Y}\\right)=\\max{\\left(\\lvert Y_t-\\hat{Y}_t\\rvert\\right)}$$ <br>"
   ]
  },
  {
   "cell_type": "code",
   "execution_count": null,
   "metadata": {},
   "outputs": [],
   "source": [
    "def max_error(y_true, y_pred):\n",
    "    \"\"\" max_error metric calculates the maximum residual error\n",
    "\n",
    "    Args:\n",
    "        y_true: array-like of shape (n_samples,)\n",
    "        y_pred: array-like of shape (n_samples,)\n",
    "\n",
    "    Returns:\n",
    "        max_error (float): A positive floating point value (the best value is 0.0).\n",
    "        \n",
    "    Examples:\n",
    "        >>> y_true = [3, 2, 7, 3]\n",
    "        >>> y_pred = [4, 1, 7, 1]\n",
    "        >>> max_error(y_true, y_pred)\n",
    "        2\n",
    "        \n",
    "        >>> y_true = [0, 2, 7, 3]\n",
    "        >>> y_pred = [4, 1, 7, 1]\n",
    "        >>> max_error(y_true, y_pred)\n",
    "        4\n",
    "\n",
    "    \"\"\"\n",
    "    y_true = np.array(y_true)\n",
    "    y_pred = np.array(y_pred)\n",
    "    return np.max(np.abs(y_true - y_pred))"
   ]
  },
  {
   "cell_type": "markdown",
   "metadata": {},
   "source": [
    "# Explained variation\n",
    "a variación explicada mide la proporción en la que un modelo matemático representa la variación (dispersión) de un conjunto de datos dado.\n",
    "$$explained \\,variance\\left(Y, \\hat{Y}\\right)=average\\left(1-\\frac{var(Y-\\hat{Y})}{var(Y)}\\right)$$ <br>"
   ]
  },
  {
   "cell_type": "code",
   "execution_count": null,
   "metadata": {},
   "outputs": [],
   "source": [
    "def explained_variance_score(y_true, y_pred):\n",
    "    \"\"\"\n",
    "\n",
    "    Args:\n",
    "        y_true: array-like of shape (n_samples,)\n",
    "        y_pred: array-like of shape (n_samples,)\n",
    "\n",
    "    Returns:\n",
    "        score (float): The explained variance (The best possible score is 1.0, lower values are worse.)\n",
    "\n",
    "    Examples:\n",
    "    \n",
    "        >>> y_true = [3, 2, 7, 3]\n",
    "        >>> y_pred = [4, 1, 7, 1]\n",
    "        >>> explained_variance_score(y_true, y_pred)\n",
    "        0.6610169491525424\n",
    "        \n",
    "        >>> y_true = [0, 2, 7, 3]\n",
    "        >>> y_pred = [4, 1, 7, 1]\n",
    "        >>> explained_variance_score(y_true, y_pred)\n",
    "        0.20192307692307687\n",
    "\n",
    "    \"\"\"\n",
    "    y_true = np.array(y_true)\n",
    "    y_pred = np.array(y_pred)\n",
    "    y_diff_avg = np.average(y_true - y_pred, axis=0)\n",
    "    numerator = np.average((y_true - y_pred - y_diff_avg) ** 2, axis=0)\n",
    "    y_true_avg = np.average(y_true, axis=0)\n",
    "    denominator = np.average((y_true - y_true_avg) ** 2, axis=0)\n",
    "    nonzero_numerator = numerator != 0\n",
    "    nonzero_denominator = denominator != 0\n",
    "    valid_score = nonzero_numerator & nonzero_denominator\n",
    "    output_scores = np.ones(y_true.shape[0])\n",
    "    output_scores[valid_score] = 1 - (numerator[valid_score] /\n",
    "                                      denominator[valid_score])\n",
    "    output_scores[nonzero_numerator & ~nonzero_denominator] = 0\n",
    "    return np.average(output_scores)"
   ]
  },
  {
   "cell_type": "markdown",
   "metadata": {},
   "source": [
    "# MAE Mean absolute error\n",
    "error absoluto medio es una medida de error que sirve para cuantificar la precisión de una técnica de predicción<br>\n",
    "$$MAE(Y, \\hat{Y})=\\frac{1}{T}-\\sum_{t=0}^{T-1}{\\lvert Y_t-\\hat{Y}_t\\rvert}$$ <br>"
   ]
  },
  {
   "cell_type": "code",
   "execution_count": 1,
   "metadata": {},
   "outputs": [],
   "source": [
    "def mean_absolute_error(y_true, y_pred):\n",
    "    \"\"\" Mean absolute error\n",
    "\n",
    "    Args:\n",
    "        y_true: array-like of shape (n_samples,)\n",
    "        y_pred: array-like of shape (n_samples,)\n",
    "\n",
    "    Returns:\n",
    "        loss (float): MAE output is non-negative floating point. The best value is 0.0.\n",
    "    \n",
    "    Examples:\n",
    "\n",
    "        >>> y_true = [3, 2, 7, 3]\n",
    "        >>> y_pred = [4, 1, 7, 1]\n",
    "        >>> mean_absolute_error(y_true, y_pred)\n",
    "        1.0\n",
    "\n",
    "        >>> y_true = [0, 2, 7, 3]\n",
    "        >>> y_pred = [4, 1, 7, 1]\n",
    "        >>> mean_absolute_error(y_true, y_pred)\n",
    "        1.75    \n",
    "\n",
    "    \"\"\"\n",
    "    y_true = np.array(y_true)\n",
    "    y_pred = np.array(y_pred)\n",
    "    output_errors = np.average(np.abs(y_pred - y_true), axis=0)\n",
    "    return np.average(output_errors)"
   ]
  },
  {
   "cell_type": "markdown",
   "metadata": {},
   "source": [
    "# Mean squared error y Root mean squared error\n",
    "el error cuadrático medio (MSE) o la desviación cuadrática media (MSD) de un estimador (de un procedimiento para estimar una cantidad no observada) mide el promedio de los cuadrados de los errores, es decir, el diferencia cuadrática media entre los valores estimados y el valor real.<br>\n",
    "el error cuadrático medio (RMSE) es una medida de uso frecuente de las diferencias entre los valores (valores de muestra o población) predichos por un modelo o estimador y los valores observados. El RMSE representa la raíz cuadrada del segundo momento de muestreo de las diferencias entre los valores predichos y los valores observados o la raíz cuadrada media de estas diferencias. \n",
    "\n",
    "$$MSE\\left(Y, \\hat{Y}\\right)=\\frac{1}{T}-\\sum_{t=0}^{T-1}{\\left(Y_t-\\hat{Y}_t\\right)^2}$$ <br>\n",
    "$$RMSE\\left(Y, \\hat{Y}\\right)=\\sqrt{MSE\\left(Y, \\hat{Y}\\right)}$$"
   ]
  },
  {
   "cell_type": "code",
   "execution_count": 6,
   "metadata": {},
   "outputs": [],
   "source": [
    "def mean_squared_error(y_true, y_pred, squared=True):\n",
    "    \"\"\" Mean squared error regression\n",
    "\n",
    "    Args:\n",
    "        y_true: array-like of shape (n_samples,)\n",
    "        y_pred: array-like of shape (n_samples,)\n",
    "        squared: boolean value, optional (default = True) If True returns MSE value, if False returns RMSE value.\n",
    "\n",
    "    Returns:\n",
    "        loss (float): A non-negative floating point value (the best value is 0.0)\n",
    "\n",
    "    Examples:\n",
    "\n",
    "        >>> y_true = [3, 2, 7, 3]\n",
    "        >>> y_pred = [4, 1, 7, 1]\n",
    "        >>> mean_squared_error(y_true, y_pred)\n",
    "        1.5\n",
    "\n",
    "        >>> y_true = [0, 2, 7, 3]\n",
    "        >>> y_pred = [4, 1, 7, 1]\n",
    "        >>> mean_squared_error(y_true, y_pred)\n",
    "        5.25    \n",
    "\n",
    "    \"\"\"\n",
    "    y_true = np.array(y_true)\n",
    "    y_pred = np.array(y_pred)\n",
    "    output_errors = np.average((y_true - y_pred) ** 2, axis=0)\n",
    "    if not squared:\n",
    "        output_errors = np.sqrt(output_errors)\n",
    "    return np.average(output_errors)"
   ]
  },
  {
   "cell_type": "markdown",
   "metadata": {},
   "source": [
    "<div class=\"alert alert-info\" style= background-color:#e5f8e5> </h4>                                                          \n",
    "<p style=\"color:black; font-size:150%; font-family:Nunito\"><i class=\"far fa-copyright\"></i>&nbsp;&nbsp;Sebastian Gonzalez</p>\n",
    "<p style=\"color:black; font-size:100%; font-family:Nunito\">Data Scientist, electronic engineer UPB<br>\n",
    "<i class=\"far fa-envelope\"></i><span class=\"tab\"></span>&nbsp;&nbsp;sebastiangonzalezv@hotmail.com<br>\n",
    "<i class=\"fas fa-globe\"></i><a href=\"https://s-gonzalez.dev/\">&nbsp;&nbsp;https://s-gonzalez.dev/</a><br>\n",
    "<i class=\"fab fa-github\"></i><a href=\"https://github.com/sebastiangonzalezv\">&nbsp;&nbsp;https://github.com/sebastiangonzalezv/</a><br>\n",
    "<i class=\"fab fa-linkedin-in\"></i><a href=\"https://www.linkedin.com/in/sebastian-gonzalez-villegas-08b8a2a1/\">&nbsp;&nbsp;https://www.linkedin.com/in/sebastian-gonzalez-villegas-08b8a2a1/</a></p>\n",
    "</h4> </div>"
   ]
  }
 ],
 "metadata": {
  "kernelspec": {
   "display_name": "Python 3",
   "language": "python",
   "name": "python3"
  },
  "language_info": {
   "codemirror_mode": {
    "name": "ipython",
    "version": 3
   },
   "file_extension": ".py",
   "mimetype": "text/x-python",
   "name": "python",
   "nbconvert_exporter": "python",
   "pygments_lexer": "ipython3",
   "version": "3.8.5"
  }
 },
 "nbformat": 4,
 "nbformat_minor": 4
}
